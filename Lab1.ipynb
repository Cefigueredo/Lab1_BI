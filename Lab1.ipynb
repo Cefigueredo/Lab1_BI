{
 "cells": [
  {
   "cell_type": "markdown",
   "id": "cca38eb5-f152-4b68-bc11-2c461383581c",
   "metadata": {},
   "source": [
    "### 1. Importación de librerías"
   ]
  },
  {
   "cell_type": "code",
   "execution_count": 1,
   "id": "06a7901d-7749-4b17-9bda-d3180c20740b",
   "metadata": {},
   "outputs": [],
   "source": [
    "# Librerías para manejo de datos\n",
    "import pandas as pd\n",
    "pd.set_option('display.max_columns', 25) # Número máximo de columnas a mostrar\n",
    "pd.set_option('display.max_rows', 50) # Numero máximo de filas a mostar\n",
    "import numpy as np\n",
    "np.random.seed(3301)\n",
    "import pandas as pd\n",
    "# Para preparar los datos\n",
    "from sklearn.preprocessing import LabelEncoder\n",
    "# Para crear el arbol de decisión \n",
    "from sklearn.tree import DecisionTreeClassifier \n",
    "# Para usar KNN como clasificador\n",
    "from sklearn.neighbors import KNeighborsClassifier\n",
    "# Para realizar la separación del conjunto de aprendizaje en entrenamiento y test.\n",
    "from sklearn.model_selection import train_test_split\n",
    "# Para evaluar el modelo\n",
    "from sklearn.metrics import confusion_matrix, classification_report, precision_score, recall_score, f1_score, accuracy_score\n",
    "from sklearn.metrics import plot_confusion_matrix\n",
    "# Para búsqueda de hiperparámetros\n",
    "from sklearn.model_selection import GridSearchCV\n",
    "# Para la validación cruzada\n",
    "from sklearn.model_selection import KFold \n",
    "#Librerías para la visualización\n",
    "import matplotlib.pyplot as plt\n",
    "# Seaborn\n",
    "import seaborn as sns \n",
    "from sklearn import tree"
   ]
  },
  {
   "cell_type": "markdown",
   "id": "af0b7f28-6b75-4e40-b407-6aba5f9f69a2",
   "metadata": {},
   "source": [
    "### 2. Carga de los datos"
   ]
  },
  {
   "cell_type": "code",
   "execution_count": 2,
   "id": "407caf68-a222-4e38-90a5-5e32035dc07c",
   "metadata": {
    "tags": []
   },
   "outputs": [],
   "source": [
    "# Se cargan los datos. \n",
    "df_tracks=pd.read_csv('202210_Laboratorio1_data_Datos_Clasificacion_2022.csv', sep=';', encoding = 'utf-8', index_col=0, low_memory=False)"
   ]
  },
  {
   "cell_type": "markdown",
   "id": "07426631",
   "metadata": {},
   "source": [
    "### 3. Limpieza y preparación de los datos"
   ]
  },
  {
   "cell_type": "code",
   "execution_count": 3,
   "id": "2e681c3c-d284-4e48-9c4a-1e56c6d67e73",
   "metadata": {},
   "outputs": [
    {
     "data": {
      "text/plain": [
       "(100000, 26)"
      ]
     },
     "execution_count": 3,
     "metadata": {},
     "output_type": "execute_result"
    }
   ],
   "source": [
    "# Cantidad de datos y número de variables\n",
    "df_tracks.shape"
   ]
  },
  {
   "cell_type": "code",
   "execution_count": 4,
   "id": "274da9c4-05ec-479e-ad91-2b11c19df5d4",
   "metadata": {},
   "outputs": [
    {
     "data": {
      "text/html": [
       "<div>\n",
       "<style scoped>\n",
       "    .dataframe tbody tr th:only-of-type {\n",
       "        vertical-align: middle;\n",
       "    }\n",
       "\n",
       "    .dataframe tbody tr th {\n",
       "        vertical-align: top;\n",
       "    }\n",
       "\n",
       "    .dataframe thead th {\n",
       "        text-align: right;\n",
       "    }\n",
       "</style>\n",
       "<table border=\"1\" class=\"dataframe\">\n",
       "  <thead>\n",
       "    <tr style=\"text-align: right;\">\n",
       "      <th></th>\n",
       "      <th>HighBP</th>\n",
       "      <th>HighChol</th>\n",
       "      <th>CholCheck</th>\n",
       "      <th>BMI</th>\n",
       "      <th>Smoker</th>\n",
       "      <th>Stroke</th>\n",
       "      <th>HeartDiseaseorAttack</th>\n",
       "      <th>PhysActivity</th>\n",
       "      <th>Fruits</th>\n",
       "      <th>Veggies</th>\n",
       "      <th>HvyAlcoholConsump</th>\n",
       "      <th>AnyHealthcare</th>\n",
       "      <th>...</th>\n",
       "      <th>MentHlth</th>\n",
       "      <th>PhysHlth</th>\n",
       "      <th>DiffWalk</th>\n",
       "      <th>Sex</th>\n",
       "      <th>Age</th>\n",
       "      <th>Education</th>\n",
       "      <th>Income</th>\n",
       "      <th>Unnamed: 22</th>\n",
       "      <th>Unnamed: 23</th>\n",
       "      <th>Unnamed: 24</th>\n",
       "      <th>Unnamed: 25</th>\n",
       "      <th>Unnamed: 26</th>\n",
       "    </tr>\n",
       "    <tr>\n",
       "      <th>Diabetes_012</th>\n",
       "      <th></th>\n",
       "      <th></th>\n",
       "      <th></th>\n",
       "      <th></th>\n",
       "      <th></th>\n",
       "      <th></th>\n",
       "      <th></th>\n",
       "      <th></th>\n",
       "      <th></th>\n",
       "      <th></th>\n",
       "      <th></th>\n",
       "      <th></th>\n",
       "      <th></th>\n",
       "      <th></th>\n",
       "      <th></th>\n",
       "      <th></th>\n",
       "      <th></th>\n",
       "      <th></th>\n",
       "      <th></th>\n",
       "      <th></th>\n",
       "      <th></th>\n",
       "      <th></th>\n",
       "      <th></th>\n",
       "      <th></th>\n",
       "      <th></th>\n",
       "    </tr>\n",
       "  </thead>\n",
       "  <tbody>\n",
       "    <tr>\n",
       "      <th>0</th>\n",
       "      <td>1</td>\n",
       "      <td>1</td>\n",
       "      <td>1</td>\n",
       "      <td>40</td>\n",
       "      <td>1</td>\n",
       "      <td>0</td>\n",
       "      <td>0</td>\n",
       "      <td>0</td>\n",
       "      <td>0</td>\n",
       "      <td>1</td>\n",
       "      <td>0</td>\n",
       "      <td>1</td>\n",
       "      <td>...</td>\n",
       "      <td>18</td>\n",
       "      <td>15</td>\n",
       "      <td>1</td>\n",
       "      <td>0</td>\n",
       "      <td>9</td>\n",
       "      <td>4</td>\n",
       "      <td>3</td>\n",
       "      <td>NaN</td>\n",
       "      <td>NaN</td>\n",
       "      <td>NaN</td>\n",
       "      <td>NaN</td>\n",
       "      <td>NaN</td>\n",
       "    </tr>\n",
       "    <tr>\n",
       "      <th>0</th>\n",
       "      <td>0</td>\n",
       "      <td>0</td>\n",
       "      <td>0</td>\n",
       "      <td>25</td>\n",
       "      <td>1</td>\n",
       "      <td>0</td>\n",
       "      <td>0</td>\n",
       "      <td>1</td>\n",
       "      <td>0</td>\n",
       "      <td>0</td>\n",
       "      <td>0</td>\n",
       "      <td>0</td>\n",
       "      <td>...</td>\n",
       "      <td>0</td>\n",
       "      <td>0</td>\n",
       "      <td>0</td>\n",
       "      <td>0</td>\n",
       "      <td>7</td>\n",
       "      <td>6</td>\n",
       "      <td>1</td>\n",
       "      <td>NaN</td>\n",
       "      <td>NaN</td>\n",
       "      <td>NaN</td>\n",
       "      <td>NaN</td>\n",
       "      <td>NaN</td>\n",
       "    </tr>\n",
       "    <tr>\n",
       "      <th>0</th>\n",
       "      <td>1</td>\n",
       "      <td>1</td>\n",
       "      <td>1</td>\n",
       "      <td>28</td>\n",
       "      <td>0</td>\n",
       "      <td>0</td>\n",
       "      <td>0</td>\n",
       "      <td>0</td>\n",
       "      <td>1</td>\n",
       "      <td>0</td>\n",
       "      <td>0</td>\n",
       "      <td>1</td>\n",
       "      <td>...</td>\n",
       "      <td>30</td>\n",
       "      <td>30</td>\n",
       "      <td>1</td>\n",
       "      <td>0</td>\n",
       "      <td>9</td>\n",
       "      <td>4</td>\n",
       "      <td>8</td>\n",
       "      <td>NaN</td>\n",
       "      <td>NaN</td>\n",
       "      <td>NaN</td>\n",
       "      <td>NaN</td>\n",
       "      <td>NaN</td>\n",
       "    </tr>\n",
       "    <tr>\n",
       "      <th>0</th>\n",
       "      <td>1</td>\n",
       "      <td>0</td>\n",
       "      <td>1</td>\n",
       "      <td>27</td>\n",
       "      <td>0</td>\n",
       "      <td>0</td>\n",
       "      <td>0</td>\n",
       "      <td>1</td>\n",
       "      <td>1</td>\n",
       "      <td>1</td>\n",
       "      <td>0</td>\n",
       "      <td>1</td>\n",
       "      <td>...</td>\n",
       "      <td>0</td>\n",
       "      <td>0</td>\n",
       "      <td>0</td>\n",
       "      <td>0</td>\n",
       "      <td>11</td>\n",
       "      <td>3</td>\n",
       "      <td>6</td>\n",
       "      <td>NaN</td>\n",
       "      <td>NaN</td>\n",
       "      <td>NaN</td>\n",
       "      <td>NaN</td>\n",
       "      <td>NaN</td>\n",
       "    </tr>\n",
       "    <tr>\n",
       "      <th>0</th>\n",
       "      <td>1</td>\n",
       "      <td>1</td>\n",
       "      <td>1</td>\n",
       "      <td>24</td>\n",
       "      <td>0</td>\n",
       "      <td>0</td>\n",
       "      <td>0</td>\n",
       "      <td>1</td>\n",
       "      <td>1</td>\n",
       "      <td>1</td>\n",
       "      <td>0</td>\n",
       "      <td>1</td>\n",
       "      <td>...</td>\n",
       "      <td>3</td>\n",
       "      <td>0</td>\n",
       "      <td>0</td>\n",
       "      <td>0</td>\n",
       "      <td>11</td>\n",
       "      <td>5</td>\n",
       "      <td>4</td>\n",
       "      <td>NaN</td>\n",
       "      <td>NaN</td>\n",
       "      <td>NaN</td>\n",
       "      <td>NaN</td>\n",
       "      <td>NaN</td>\n",
       "    </tr>\n",
       "  </tbody>\n",
       "</table>\n",
       "<p>5 rows × 26 columns</p>\n",
       "</div>"
      ],
      "text/plain": [
       "             HighBP HighChol CholCheck BMI Smoker Stroke HeartDiseaseorAttack  \\\n",
       "Diabetes_012                                                                    \n",
       "0                 1        1         1  40      1      0                    0   \n",
       "0                 0        0         0  25      1      0                    0   \n",
       "0                 1        1         1  28      0      0                    0   \n",
       "0                 1        0         1  27      0      0                    0   \n",
       "0                 1        1         1  24      0      0                    0   \n",
       "\n",
       "             PhysActivity Fruits Veggies HvyAlcoholConsump AnyHealthcare  ...  \\\n",
       "Diabetes_012                                                              ...   \n",
       "0                       0      0       1                 0             1  ...   \n",
       "0                       1      0       0                 0             0  ...   \n",
       "0                       0      1       0                 0             1  ...   \n",
       "0                       1      1       1                 0             1  ...   \n",
       "0                       1      1       1                 0             1  ...   \n",
       "\n",
       "             MentHlth PhysHlth DiffWalk Sex Age Education Income Unnamed: 22  \\\n",
       "Diabetes_012                                                                   \n",
       "0                  18       15        1   0   9         4      3         NaN   \n",
       "0                   0        0        0   0   7         6      1         NaN   \n",
       "0                  30       30        1   0   9         4      8         NaN   \n",
       "0                   0        0        0   0  11         3      6         NaN   \n",
       "0                   3        0        0   0  11         5      4         NaN   \n",
       "\n",
       "             Unnamed: 23  Unnamed: 24  Unnamed: 25  Unnamed: 26  \n",
       "Diabetes_012                                                     \n",
       "0                    NaN          NaN          NaN          NaN  \n",
       "0                    NaN          NaN          NaN          NaN  \n",
       "0                    NaN          NaN          NaN          NaN  \n",
       "0                    NaN          NaN          NaN          NaN  \n",
       "0                    NaN          NaN          NaN          NaN  \n",
       "\n",
       "[5 rows x 26 columns]"
      ]
     },
     "execution_count": 4,
     "metadata": {},
     "output_type": "execute_result"
    }
   ],
   "source": [
    "# Mostrar los datos\n",
    "df_tracks.head()"
   ]
  },
  {
   "cell_type": "code",
   "execution_count": 5,
   "id": "5699cece-c431-4a5c-a42b-e31886328c62",
   "metadata": {},
   "outputs": [
    {
     "data": {
      "text/plain": [
       "HighBP                   object\n",
       "HighChol                 object\n",
       "CholCheck                object\n",
       "BMI                      object\n",
       "Smoker                   object\n",
       "Stroke                   object\n",
       "HeartDiseaseorAttack     object\n",
       "PhysActivity             object\n",
       "Fruits                   object\n",
       "Veggies                  object\n",
       "HvyAlcoholConsump        object\n",
       "AnyHealthcare            object\n",
       "NoDocbcCost              object\n",
       "GenHlth                  object\n",
       "MentHlth                 object\n",
       "PhysHlth                 object\n",
       "DiffWalk                 object\n",
       "Sex                      object\n",
       "Age                      object\n",
       "Education                object\n",
       "Income                   object\n",
       "Unnamed: 22             float64\n",
       "Unnamed: 23             float64\n",
       "Unnamed: 24             float64\n",
       "Unnamed: 25             float64\n",
       "Unnamed: 26             float64\n",
       "dtype: object"
      ]
     },
     "execution_count": 5,
     "metadata": {},
     "output_type": "execute_result"
    }
   ],
   "source": [
    "# Podemos ver los tipos de todas la variables.\n",
    "df_tracks.dtypes"
   ]
  },
  {
   "cell_type": "markdown",
   "id": "d689fa40",
   "metadata": {},
   "source": [
    "Notamos que hay columnas nulas, entonces tenemos que eliminarlas"
   ]
  },
  {
   "cell_type": "code",
   "execution_count": 6,
   "id": "a90b43c9-a3b7-4052-9c58-eb3fb2f139af",
   "metadata": {},
   "outputs": [],
   "source": [
    "# Eliminar las columnas en nulo\n",
    "df_tracks_t = df_tracks.drop(['Unnamed: 22','Unnamed: 23','Unnamed: 24','Unnamed: 25','Unnamed: 26' ], axis=1)"
   ]
  },
  {
   "cell_type": "code",
   "execution_count": 7,
   "id": "651365c8",
   "metadata": {},
   "outputs": [
    {
     "data": {
      "text/html": [
       "<div>\n",
       "<style scoped>\n",
       "    .dataframe tbody tr th:only-of-type {\n",
       "        vertical-align: middle;\n",
       "    }\n",
       "\n",
       "    .dataframe tbody tr th {\n",
       "        vertical-align: top;\n",
       "    }\n",
       "\n",
       "    .dataframe thead th {\n",
       "        text-align: right;\n",
       "    }\n",
       "</style>\n",
       "<table border=\"1\" class=\"dataframe\">\n",
       "  <thead>\n",
       "    <tr style=\"text-align: right;\">\n",
       "      <th></th>\n",
       "      <th>HighBP</th>\n",
       "      <th>HighChol</th>\n",
       "      <th>CholCheck</th>\n",
       "      <th>BMI</th>\n",
       "      <th>Smoker</th>\n",
       "      <th>Stroke</th>\n",
       "      <th>HeartDiseaseorAttack</th>\n",
       "      <th>PhysActivity</th>\n",
       "      <th>Fruits</th>\n",
       "      <th>Veggies</th>\n",
       "      <th>HvyAlcoholConsump</th>\n",
       "      <th>AnyHealthcare</th>\n",
       "      <th>NoDocbcCost</th>\n",
       "      <th>GenHlth</th>\n",
       "      <th>MentHlth</th>\n",
       "      <th>PhysHlth</th>\n",
       "      <th>DiffWalk</th>\n",
       "      <th>Sex</th>\n",
       "      <th>Age</th>\n",
       "      <th>Education</th>\n",
       "      <th>Income</th>\n",
       "    </tr>\n",
       "  </thead>\n",
       "  <tbody>\n",
       "    <tr>\n",
       "      <th>count</th>\n",
       "      <td>99982</td>\n",
       "      <td>99991</td>\n",
       "      <td>99984</td>\n",
       "      <td>99981</td>\n",
       "      <td>99979</td>\n",
       "      <td>99987</td>\n",
       "      <td>99987</td>\n",
       "      <td>99985</td>\n",
       "      <td>99976</td>\n",
       "      <td>99989</td>\n",
       "      <td>99988</td>\n",
       "      <td>99984</td>\n",
       "      <td>99978</td>\n",
       "      <td>99982</td>\n",
       "      <td>99986</td>\n",
       "      <td>99978</td>\n",
       "      <td>99987</td>\n",
       "      <td>99991</td>\n",
       "      <td>99988</td>\n",
       "      <td>99981</td>\n",
       "      <td>99999</td>\n",
       "    </tr>\n",
       "    <tr>\n",
       "      <th>unique</th>\n",
       "      <td>5</td>\n",
       "      <td>5</td>\n",
       "      <td>5</td>\n",
       "      <td>95</td>\n",
       "      <td>5</td>\n",
       "      <td>5</td>\n",
       "      <td>5</td>\n",
       "      <td>5</td>\n",
       "      <td>5</td>\n",
       "      <td>5</td>\n",
       "      <td>5</td>\n",
       "      <td>5</td>\n",
       "      <td>5</td>\n",
       "      <td>8</td>\n",
       "      <td>49</td>\n",
       "      <td>54</td>\n",
       "      <td>5</td>\n",
       "      <td>5</td>\n",
       "      <td>16</td>\n",
       "      <td>9</td>\n",
       "      <td>11</td>\n",
       "    </tr>\n",
       "    <tr>\n",
       "      <th>top</th>\n",
       "      <td>0</td>\n",
       "      <td>0</td>\n",
       "      <td>1</td>\n",
       "      <td>27</td>\n",
       "      <td>0</td>\n",
       "      <td>0</td>\n",
       "      <td>0</td>\n",
       "      <td>1</td>\n",
       "      <td>1</td>\n",
       "      <td>1</td>\n",
       "      <td>0</td>\n",
       "      <td>1</td>\n",
       "      <td>0</td>\n",
       "      <td>2</td>\n",
       "      <td>0</td>\n",
       "      <td>0</td>\n",
       "      <td>0</td>\n",
       "      <td>0</td>\n",
       "      <td>9</td>\n",
       "      <td>6</td>\n",
       "      <td>8</td>\n",
       "    </tr>\n",
       "    <tr>\n",
       "      <th>freq</th>\n",
       "      <td>56544</td>\n",
       "      <td>56814</td>\n",
       "      <td>96330</td>\n",
       "      <td>9624</td>\n",
       "      <td>55426</td>\n",
       "      <td>95818</td>\n",
       "      <td>90617</td>\n",
       "      <td>76135</td>\n",
       "      <td>63639</td>\n",
       "      <td>81464</td>\n",
       "      <td>94248</td>\n",
       "      <td>95003</td>\n",
       "      <td>91757</td>\n",
       "      <td>35060</td>\n",
       "      <td>68495</td>\n",
       "      <td>62518</td>\n",
       "      <td>83320</td>\n",
       "      <td>56163</td>\n",
       "      <td>13114</td>\n",
       "      <td>43815</td>\n",
       "      <td>36920</td>\n",
       "    </tr>\n",
       "  </tbody>\n",
       "</table>\n",
       "</div>"
      ],
      "text/plain": [
       "       HighBP HighChol CholCheck    BMI Smoker Stroke HeartDiseaseorAttack  \\\n",
       "count   99982    99991     99984  99981  99979  99987                99987   \n",
       "unique      5        5         5     95      5      5                    5   \n",
       "top         0        0         1     27      0      0                    0   \n",
       "freq    56544    56814     96330   9624  55426  95818                90617   \n",
       "\n",
       "       PhysActivity Fruits Veggies HvyAlcoholConsump AnyHealthcare  \\\n",
       "count         99985  99976   99989             99988         99984   \n",
       "unique            5      5       5                 5             5   \n",
       "top               1      1       1                 0             1   \n",
       "freq          76135  63639   81464             94248         95003   \n",
       "\n",
       "       NoDocbcCost GenHlth MentHlth PhysHlth DiffWalk    Sex    Age Education  \\\n",
       "count        99978   99982    99986    99978    99987  99991  99988     99981   \n",
       "unique           5       8       49       54        5      5     16         9   \n",
       "top              0       2        0        0        0      0      9         6   \n",
       "freq         91757   35060    68495    62518    83320  56163  13114     43815   \n",
       "\n",
       "       Income  \n",
       "count   99999  \n",
       "unique     11  \n",
       "top         8  \n",
       "freq    36920  "
      ]
     },
     "execution_count": 7,
     "metadata": {},
     "output_type": "execute_result"
    }
   ],
   "source": [
    "# Mostramos otra vez la tabla sin las columnas en nulo\n",
    "df_tracks_t.describe()"
   ]
  },
  {
   "cell_type": "code",
   "execution_count": 8,
   "id": "00d596f1",
   "metadata": {},
   "outputs": [
    {
     "data": {
      "text/html": [
       "<div>\n",
       "<style scoped>\n",
       "    .dataframe tbody tr th:only-of-type {\n",
       "        vertical-align: middle;\n",
       "    }\n",
       "\n",
       "    .dataframe tbody tr th {\n",
       "        vertical-align: top;\n",
       "    }\n",
       "\n",
       "    .dataframe thead th {\n",
       "        text-align: right;\n",
       "    }\n",
       "</style>\n",
       "<table border=\"1\" class=\"dataframe\">\n",
       "  <thead>\n",
       "    <tr style=\"text-align: right;\">\n",
       "      <th></th>\n",
       "      <th>HighBP</th>\n",
       "      <th>HighChol</th>\n",
       "      <th>CholCheck</th>\n",
       "      <th>BMI</th>\n",
       "      <th>Smoker</th>\n",
       "      <th>Stroke</th>\n",
       "      <th>HeartDiseaseorAttack</th>\n",
       "      <th>PhysActivity</th>\n",
       "      <th>Fruits</th>\n",
       "      <th>Veggies</th>\n",
       "      <th>HvyAlcoholConsump</th>\n",
       "      <th>AnyHealthcare</th>\n",
       "      <th>NoDocbcCost</th>\n",
       "      <th>GenHlth</th>\n",
       "      <th>MentHlth</th>\n",
       "      <th>PhysHlth</th>\n",
       "      <th>DiffWalk</th>\n",
       "      <th>Sex</th>\n",
       "      <th>Age</th>\n",
       "      <th>Education</th>\n",
       "      <th>Income</th>\n",
       "    </tr>\n",
       "    <tr>\n",
       "      <th>Diabetes_012</th>\n",
       "      <th></th>\n",
       "      <th></th>\n",
       "      <th></th>\n",
       "      <th></th>\n",
       "      <th></th>\n",
       "      <th></th>\n",
       "      <th></th>\n",
       "      <th></th>\n",
       "      <th></th>\n",
       "      <th></th>\n",
       "      <th></th>\n",
       "      <th></th>\n",
       "      <th></th>\n",
       "      <th></th>\n",
       "      <th></th>\n",
       "      <th></th>\n",
       "      <th></th>\n",
       "      <th></th>\n",
       "      <th></th>\n",
       "      <th></th>\n",
       "      <th></th>\n",
       "    </tr>\n",
       "  </thead>\n",
       "  <tbody>\n",
       "    <tr>\n",
       "      <th>0</th>\n",
       "      <td>1</td>\n",
       "      <td>1</td>\n",
       "      <td>1</td>\n",
       "      <td>40</td>\n",
       "      <td>1</td>\n",
       "      <td>0</td>\n",
       "      <td>0</td>\n",
       "      <td>0</td>\n",
       "      <td>0</td>\n",
       "      <td>1</td>\n",
       "      <td>0</td>\n",
       "      <td>1</td>\n",
       "      <td>0</td>\n",
       "      <td>5</td>\n",
       "      <td>18</td>\n",
       "      <td>15</td>\n",
       "      <td>1</td>\n",
       "      <td>0</td>\n",
       "      <td>9</td>\n",
       "      <td>4</td>\n",
       "      <td>3</td>\n",
       "    </tr>\n",
       "    <tr>\n",
       "      <th>0</th>\n",
       "      <td>0</td>\n",
       "      <td>0</td>\n",
       "      <td>0</td>\n",
       "      <td>25</td>\n",
       "      <td>1</td>\n",
       "      <td>0</td>\n",
       "      <td>0</td>\n",
       "      <td>1</td>\n",
       "      <td>0</td>\n",
       "      <td>0</td>\n",
       "      <td>0</td>\n",
       "      <td>0</td>\n",
       "      <td>1</td>\n",
       "      <td>3</td>\n",
       "      <td>0</td>\n",
       "      <td>0</td>\n",
       "      <td>0</td>\n",
       "      <td>0</td>\n",
       "      <td>7</td>\n",
       "      <td>6</td>\n",
       "      <td>1</td>\n",
       "    </tr>\n",
       "    <tr>\n",
       "      <th>0</th>\n",
       "      <td>1</td>\n",
       "      <td>1</td>\n",
       "      <td>1</td>\n",
       "      <td>28</td>\n",
       "      <td>0</td>\n",
       "      <td>0</td>\n",
       "      <td>0</td>\n",
       "      <td>0</td>\n",
       "      <td>1</td>\n",
       "      <td>0</td>\n",
       "      <td>0</td>\n",
       "      <td>1</td>\n",
       "      <td>1</td>\n",
       "      <td>5</td>\n",
       "      <td>30</td>\n",
       "      <td>30</td>\n",
       "      <td>1</td>\n",
       "      <td>0</td>\n",
       "      <td>9</td>\n",
       "      <td>4</td>\n",
       "      <td>8</td>\n",
       "    </tr>\n",
       "    <tr>\n",
       "      <th>0</th>\n",
       "      <td>1</td>\n",
       "      <td>0</td>\n",
       "      <td>1</td>\n",
       "      <td>27</td>\n",
       "      <td>0</td>\n",
       "      <td>0</td>\n",
       "      <td>0</td>\n",
       "      <td>1</td>\n",
       "      <td>1</td>\n",
       "      <td>1</td>\n",
       "      <td>0</td>\n",
       "      <td>1</td>\n",
       "      <td>0</td>\n",
       "      <td>2</td>\n",
       "      <td>0</td>\n",
       "      <td>0</td>\n",
       "      <td>0</td>\n",
       "      <td>0</td>\n",
       "      <td>11</td>\n",
       "      <td>3</td>\n",
       "      <td>6</td>\n",
       "    </tr>\n",
       "    <tr>\n",
       "      <th>0</th>\n",
       "      <td>1</td>\n",
       "      <td>1</td>\n",
       "      <td>1</td>\n",
       "      <td>24</td>\n",
       "      <td>0</td>\n",
       "      <td>0</td>\n",
       "      <td>0</td>\n",
       "      <td>1</td>\n",
       "      <td>1</td>\n",
       "      <td>1</td>\n",
       "      <td>0</td>\n",
       "      <td>1</td>\n",
       "      <td>0</td>\n",
       "      <td>2</td>\n",
       "      <td>3</td>\n",
       "      <td>0</td>\n",
       "      <td>0</td>\n",
       "      <td>0</td>\n",
       "      <td>11</td>\n",
       "      <td>5</td>\n",
       "      <td>4</td>\n",
       "    </tr>\n",
       "  </tbody>\n",
       "</table>\n",
       "</div>"
      ],
      "text/plain": [
       "             HighBP HighChol CholCheck BMI Smoker Stroke HeartDiseaseorAttack  \\\n",
       "Diabetes_012                                                                    \n",
       "0                 1        1         1  40      1      0                    0   \n",
       "0                 0        0         0  25      1      0                    0   \n",
       "0                 1        1         1  28      0      0                    0   \n",
       "0                 1        0         1  27      0      0                    0   \n",
       "0                 1        1         1  24      0      0                    0   \n",
       "\n",
       "             PhysActivity Fruits Veggies HvyAlcoholConsump AnyHealthcare  \\\n",
       "Diabetes_012                                                               \n",
       "0                       0      0       1                 0             1   \n",
       "0                       1      0       0                 0             0   \n",
       "0                       0      1       0                 0             1   \n",
       "0                       1      1       1                 0             1   \n",
       "0                       1      1       1                 0             1   \n",
       "\n",
       "             NoDocbcCost GenHlth MentHlth PhysHlth DiffWalk Sex Age Education  \\\n",
       "Diabetes_012                                                                    \n",
       "0                      0       5       18       15        1   0   9         4   \n",
       "0                      1       3        0        0        0   0   7         6   \n",
       "0                      1       5       30       30        1   0   9         4   \n",
       "0                      0       2        0        0        0   0  11         3   \n",
       "0                      0       2        3        0        0   0  11         5   \n",
       "\n",
       "             Income  \n",
       "Diabetes_012         \n",
       "0                 3  \n",
       "0                 1  \n",
       "0                 8  \n",
       "0                 6  \n",
       "0                 4  "
      ]
     },
     "execution_count": 8,
     "metadata": {},
     "output_type": "execute_result"
    }
   ],
   "source": [
    "df_tracks_t.head()"
   ]
  },
  {
   "cell_type": "code",
   "execution_count": 9,
   "id": "6c69e0f7",
   "metadata": {},
   "outputs": [
    {
     "data": {
      "text/plain": [
       "HighBP                  18\n",
       "HighChol                 9\n",
       "CholCheck               16\n",
       "BMI                     19\n",
       "Smoker                  21\n",
       "Stroke                  13\n",
       "HeartDiseaseorAttack    13\n",
       "PhysActivity            15\n",
       "Fruits                  24\n",
       "Veggies                 11\n",
       "HvyAlcoholConsump       12\n",
       "AnyHealthcare           16\n",
       "NoDocbcCost             22\n",
       "GenHlth                 18\n",
       "MentHlth                14\n",
       "PhysHlth                22\n",
       "DiffWalk                13\n",
       "Sex                      9\n",
       "Age                     12\n",
       "Education               19\n",
       "Income                   1\n",
       "dtype: int64"
      ]
     },
     "execution_count": 9,
     "metadata": {},
     "output_type": "execute_result"
    }
   ],
   "source": [
    "df_tracks_t.isnull().sum()"
   ]
  },
  {
   "cell_type": "markdown",
   "id": "17bee83b",
   "metadata": {},
   "source": [
    "Ahora eliminamos las celdas con datos nulos y las que están duplicadas"
   ]
  },
  {
   "cell_type": "code",
   "execution_count": 10,
   "id": "36a7b265",
   "metadata": {},
   "outputs": [],
   "source": [
    "# Eliminación registros con ausencias\n",
    "df_tracks_t = df_tracks_t.dropna()\n",
    "# Eliminación de registros duplicados.\n",
    "df_tracks_t = df_tracks_t.drop_duplicates()"
   ]
  },
  {
   "cell_type": "code",
   "execution_count": 11,
   "id": "5ff84ed5",
   "metadata": {},
   "outputs": [
    {
     "data": {
      "text/html": [
       "<div>\n",
       "<style scoped>\n",
       "    .dataframe tbody tr th:only-of-type {\n",
       "        vertical-align: middle;\n",
       "    }\n",
       "\n",
       "    .dataframe tbody tr th {\n",
       "        vertical-align: top;\n",
       "    }\n",
       "\n",
       "    .dataframe thead th {\n",
       "        text-align: right;\n",
       "    }\n",
       "</style>\n",
       "<table border=\"1\" class=\"dataframe\">\n",
       "  <thead>\n",
       "    <tr style=\"text-align: right;\">\n",
       "      <th></th>\n",
       "      <th>HighBP</th>\n",
       "      <th>HighChol</th>\n",
       "      <th>CholCheck</th>\n",
       "      <th>BMI</th>\n",
       "      <th>Smoker</th>\n",
       "      <th>Stroke</th>\n",
       "      <th>HeartDiseaseorAttack</th>\n",
       "      <th>PhysActivity</th>\n",
       "      <th>Fruits</th>\n",
       "      <th>Veggies</th>\n",
       "      <th>HvyAlcoholConsump</th>\n",
       "      <th>AnyHealthcare</th>\n",
       "      <th>NoDocbcCost</th>\n",
       "      <th>GenHlth</th>\n",
       "      <th>MentHlth</th>\n",
       "      <th>PhysHlth</th>\n",
       "      <th>DiffWalk</th>\n",
       "      <th>Sex</th>\n",
       "      <th>Age</th>\n",
       "      <th>Education</th>\n",
       "      <th>Income</th>\n",
       "    </tr>\n",
       "  </thead>\n",
       "  <tbody>\n",
       "    <tr>\n",
       "      <th>count</th>\n",
       "      <td>93384</td>\n",
       "      <td>93384</td>\n",
       "      <td>93384</td>\n",
       "      <td>93384</td>\n",
       "      <td>93384</td>\n",
       "      <td>93384</td>\n",
       "      <td>93384</td>\n",
       "      <td>93384</td>\n",
       "      <td>93384</td>\n",
       "      <td>93384</td>\n",
       "      <td>93384</td>\n",
       "      <td>93384</td>\n",
       "      <td>93384</td>\n",
       "      <td>93384</td>\n",
       "      <td>93384</td>\n",
       "      <td>93384</td>\n",
       "      <td>93384</td>\n",
       "      <td>93384</td>\n",
       "      <td>93384</td>\n",
       "      <td>93384</td>\n",
       "      <td>93384</td>\n",
       "    </tr>\n",
       "    <tr>\n",
       "      <th>unique</th>\n",
       "      <td>5</td>\n",
       "      <td>5</td>\n",
       "      <td>5</td>\n",
       "      <td>95</td>\n",
       "      <td>5</td>\n",
       "      <td>5</td>\n",
       "      <td>5</td>\n",
       "      <td>5</td>\n",
       "      <td>5</td>\n",
       "      <td>5</td>\n",
       "      <td>5</td>\n",
       "      <td>5</td>\n",
       "      <td>5</td>\n",
       "      <td>8</td>\n",
       "      <td>49</td>\n",
       "      <td>54</td>\n",
       "      <td>5</td>\n",
       "      <td>5</td>\n",
       "      <td>16</td>\n",
       "      <td>9</td>\n",
       "      <td>11</td>\n",
       "    </tr>\n",
       "    <tr>\n",
       "      <th>top</th>\n",
       "      <td>0</td>\n",
       "      <td>0</td>\n",
       "      <td>1</td>\n",
       "      <td>27</td>\n",
       "      <td>0</td>\n",
       "      <td>0</td>\n",
       "      <td>0</td>\n",
       "      <td>1</td>\n",
       "      <td>1</td>\n",
       "      <td>1</td>\n",
       "      <td>0</td>\n",
       "      <td>1</td>\n",
       "      <td>0</td>\n",
       "      <td>2</td>\n",
       "      <td>0</td>\n",
       "      <td>0</td>\n",
       "      <td>0</td>\n",
       "      <td>0</td>\n",
       "      <td>9</td>\n",
       "      <td>6</td>\n",
       "      <td>8</td>\n",
       "    </tr>\n",
       "    <tr>\n",
       "      <th>freq</th>\n",
       "      <td>51273</td>\n",
       "      <td>52016</td>\n",
       "      <td>89768</td>\n",
       "      <td>8806</td>\n",
       "      <td>50265</td>\n",
       "      <td>89236</td>\n",
       "      <td>84103</td>\n",
       "      <td>69708</td>\n",
       "      <td>58052</td>\n",
       "      <td>75049</td>\n",
       "      <td>87723</td>\n",
       "      <td>88425</td>\n",
       "      <td>85195</td>\n",
       "      <td>32068</td>\n",
       "      <td>62160</td>\n",
       "      <td>56167</td>\n",
       "      <td>76783</td>\n",
       "      <td>52594</td>\n",
       "      <td>12134</td>\n",
       "      <td>38312</td>\n",
       "      <td>31577</td>\n",
       "    </tr>\n",
       "  </tbody>\n",
       "</table>\n",
       "</div>"
      ],
      "text/plain": [
       "       HighBP HighChol CholCheck    BMI Smoker Stroke HeartDiseaseorAttack  \\\n",
       "count   93384    93384     93384  93384  93384  93384                93384   \n",
       "unique      5        5         5     95      5      5                    5   \n",
       "top         0        0         1     27      0      0                    0   \n",
       "freq    51273    52016     89768   8806  50265  89236                84103   \n",
       "\n",
       "       PhysActivity Fruits Veggies HvyAlcoholConsump AnyHealthcare  \\\n",
       "count         93384  93384   93384             93384         93384   \n",
       "unique            5      5       5                 5             5   \n",
       "top               1      1       1                 0             1   \n",
       "freq          69708  58052   75049             87723         88425   \n",
       "\n",
       "       NoDocbcCost GenHlth MentHlth PhysHlth DiffWalk    Sex    Age Education  \\\n",
       "count        93384   93384    93384    93384    93384  93384  93384     93384   \n",
       "unique           5       8       49       54        5      5     16         9   \n",
       "top              0       2        0        0        0      0      9         6   \n",
       "freq         85195   32068    62160    56167    76783  52594  12134     38312   \n",
       "\n",
       "       Income  \n",
       "count   93384  \n",
       "unique     11  \n",
       "top         8  \n",
       "freq    31577  "
      ]
     },
     "execution_count": 11,
     "metadata": {},
     "output_type": "execute_result"
    }
   ],
   "source": [
    "df_tracks_t.describe()"
   ]
  },
  {
   "cell_type": "code",
   "execution_count": 12,
   "id": "7199c0f0",
   "metadata": {},
   "outputs": [
    {
     "data": {
      "text/plain": [
       "count     93384\n",
       "unique        5\n",
       "top           0\n",
       "freq      51273\n",
       "Name: HighBP, dtype: object"
      ]
     },
     "execution_count": 12,
     "metadata": {},
     "output_type": "execute_result"
    }
   ],
   "source": [
    "# Podemos ver los estadísticos de la variable \"diabetes\"\n",
    "df_tracks_t['HighBP'].describe()"
   ]
  },
  {
   "cell_type": "markdown",
   "id": "ff56bac0",
   "metadata": {},
   "source": [
    "Vemos que HighBP tiene 5 tipos de valores, pero según el codebook, solo puede tomar 2 valores, el 0 y el 1"
   ]
  },
  {
   "cell_type": "code",
   "execution_count": 13,
   "id": "f5e59f65",
   "metadata": {},
   "outputs": [
    {
     "data": {
      "text/plain": [
       "0     51273\n",
       "1     42067\n",
       "-        19\n",
       "Xx       18\n",
       "?         7\n",
       "Name: HighBP, dtype: int64"
      ]
     },
     "execution_count": 13,
     "metadata": {},
     "output_type": "execute_result"
    }
   ],
   "source": [
    "df_tracks_t['HighBP'].value_counts()"
   ]
  },
  {
   "cell_type": "markdown",
   "id": "c950e1b0",
   "metadata": {},
   "source": [
    "Por lo tanto, tenemos que eliminar los valores que no sean 0 o 1"
   ]
  },
  {
   "cell_type": "code",
   "execution_count": 14,
   "id": "ba41827b",
   "metadata": {},
   "outputs": [],
   "source": [
    "df_tracks_t = df_tracks_t.set_index('HighBP')\n",
    "df_tracks_t = df_tracks_t.drop('-', axis=0)\n",
    "df_tracks_t = df_tracks_t.drop('Xx', axis=0)\n",
    "df_tracks_t = df_tracks_t.drop('?', axis=0)\n",
    "df_tracks_t = df_tracks_t.reset_index()\n",
    "df_tracks_t['HighBP'].value_counts()"
   ]
  },
  {
   "cell_type": "code",
   "execution_count": 19,
   "id": "0fbee8d7",
   "metadata": {},
   "outputs": [
    {
     "data": {
      "text/plain": [
       "0     51989\n",
       "1     41326\n",
       "Xx       10\n",
       "-         8\n",
       "?         7\n",
       "Name: HighChol, dtype: int64"
      ]
     },
     "execution_count": 19,
     "metadata": {},
     "output_type": "execute_result"
    }
   ],
   "source": [
    "df_tracks_t['HighChol'].value_counts()"
   ]
  },
  {
   "cell_type": "markdown",
   "id": "58e7f828",
   "metadata": {},
   "source": [
    "Ahora hay que hacer lo mismo con HighChol"
   ]
  },
  {
   "cell_type": "code",
   "execution_count": 20,
   "id": "c6b10ac2",
   "metadata": {},
   "outputs": [
    {
     "data": {
      "text/plain": [
       "0    51989\n",
       "1    41326\n",
       "Name: HighChol, dtype: int64"
      ]
     },
     "execution_count": 20,
     "metadata": {},
     "output_type": "execute_result"
    }
   ],
   "source": [
    "df_tracks_t = df_tracks_t.set_index('HighChol')\n",
    "df_tracks_t = df_tracks_t.drop('-', axis=0)\n",
    "df_tracks_t = df_tracks_t.drop('Xx', axis=0)\n",
    "df_tracks_t = df_tracks_t.drop('?', axis=0)\n",
    "df_tracks_t = df_tracks_t.reset_index()\n",
    "df_tracks_t['HighChol'].value_counts()"
   ]
  },
  {
   "cell_type": "code",
   "execution_count": 21,
   "id": "30de81c3",
   "metadata": {},
   "outputs": [
    {
     "data": {
      "text/plain": [
       "1     89702\n",
       "0      3583\n",
       "-        15\n",
       "Xx       10\n",
       "?         5\n",
       "Name: CholCheck, dtype: int64"
      ]
     },
     "execution_count": 21,
     "metadata": {},
     "output_type": "execute_result"
    }
   ],
   "source": [
    "df_tracks_t['CholCheck'].value_counts()"
   ]
  },
  {
   "cell_type": "code",
   "execution_count": 22,
   "id": "91ee84c8",
   "metadata": {},
   "outputs": [
    {
     "data": {
      "text/plain": [
       "1    89702\n",
       "0     3583\n",
       "Name: CholCheck, dtype: int64"
      ]
     },
     "execution_count": 22,
     "metadata": {},
     "output_type": "execute_result"
    }
   ],
   "source": [
    "df_tracks_t = df_tracks_t.set_index('CholCheck')\n",
    "df_tracks_t = df_tracks_t.drop('-', axis=0)\n",
    "df_tracks_t = df_tracks_t.drop('Xx', axis=0)\n",
    "df_tracks_t = df_tracks_t.drop('?', axis=0)\n",
    "df_tracks_t = df_tracks_t.reset_index()\n",
    "df_tracks_t['CholCheck'].value_counts()"
   ]
  },
  {
   "cell_type": "code",
   "execution_count": 25,
   "id": "eb2e5d41",
   "metadata": {},
   "outputs": [
    {
     "data": {
      "text/plain": [
       "27    8799\n",
       "26    7222\n",
       "24    6877\n",
       "25    6045\n",
       "28    6029\n",
       "      ... \n",
       "88       1\n",
       "85       1\n",
       "91       1\n",
       "86       1\n",
       "83       1\n",
       "Name: BMI, Length: 95, dtype: int64"
      ]
     },
     "execution_count": 25,
     "metadata": {},
     "output_type": "execute_result"
    }
   ],
   "source": [
    "df_tracks_t['BMI'].value_counts()"
   ]
  },
  {
   "cell_type": "markdown",
   "id": "55fad612",
   "metadata": {},
   "source": [
    "BMI está en el rango correcto de 1 a 99"
   ]
  },
  {
   "cell_type": "code",
   "execution_count": 26,
   "id": "bad290ab",
   "metadata": {},
   "outputs": [
    {
     "data": {
      "text/plain": [
       "0     50211\n",
       "1     43029\n",
       "Xx       20\n",
       "-        15\n",
       "?        10\n",
       "Name: Smoker, dtype: int64"
      ]
     },
     "execution_count": 26,
     "metadata": {},
     "output_type": "execute_result"
    }
   ],
   "source": [
    "df_tracks_t['Smoker'].value_counts()"
   ]
  },
  {
   "cell_type": "code",
   "execution_count": 27,
   "id": "a0676526",
   "metadata": {},
   "outputs": [
    {
     "data": {
      "text/plain": [
       "0    50211\n",
       "1    43029\n",
       "Name: Smoker, dtype: int64"
      ]
     },
     "execution_count": 27,
     "metadata": {},
     "output_type": "execute_result"
    }
   ],
   "source": [
    "df_tracks_t = df_tracks_t.set_index('Smoker')\n",
    "df_tracks_t = df_tracks_t.drop('-', axis=0)\n",
    "df_tracks_t = df_tracks_t.drop('Xx', axis=0)\n",
    "df_tracks_t = df_tracks_t.drop('?', axis=0)\n",
    "df_tracks_t = df_tracks_t.reset_index()\n",
    "df_tracks_t['Smoker'].value_counts()"
   ]
  },
  {
   "cell_type": "code",
   "execution_count": 28,
   "id": "a8abe8bb",
   "metadata": {},
   "outputs": [
    {
     "data": {
      "text/plain": [
       "0     89097\n",
       "1      4111\n",
       "Xx       16\n",
       "-        13\n",
       "?         3\n",
       "Name: Stroke, dtype: int64"
      ]
     },
     "execution_count": 28,
     "metadata": {},
     "output_type": "execute_result"
    }
   ],
   "source": [
    "df_tracks_t['Stroke'].value_counts()"
   ]
  },
  {
   "cell_type": "code",
   "execution_count": 29,
   "id": "2f086b5e",
   "metadata": {},
   "outputs": [
    {
     "data": {
      "text/plain": [
       "0    89097\n",
       "1     4111\n",
       "Name: Stroke, dtype: int64"
      ]
     },
     "execution_count": 29,
     "metadata": {},
     "output_type": "execute_result"
    }
   ],
   "source": [
    "df_tracks_t = df_tracks_t.set_index('Stroke')\n",
    "df_tracks_t = df_tracks_t.drop('-', axis=0)\n",
    "df_tracks_t = df_tracks_t.drop('Xx', axis=0)\n",
    "df_tracks_t = df_tracks_t.drop('?', axis=0)\n",
    "df_tracks_t = df_tracks_t.reset_index()\n",
    "df_tracks_t['Stroke'].value_counts()"
   ]
  },
  {
   "cell_type": "code",
   "execution_count": 30,
   "id": "c465e10e",
   "metadata": {},
   "outputs": [
    {
     "data": {
      "text/plain": [
       "0     83943\n",
       "1      9233\n",
       "-        16\n",
       "Xx        9\n",
       "?         7\n",
       "Name: HeartDiseaseorAttack, dtype: int64"
      ]
     },
     "execution_count": 30,
     "metadata": {},
     "output_type": "execute_result"
    }
   ],
   "source": [
    "df_tracks_t['HeartDiseaseorAttack'].value_counts()"
   ]
  },
  {
   "cell_type": "code",
   "execution_count": 31,
   "id": "0320dce4",
   "metadata": {},
   "outputs": [
    {
     "data": {
      "text/plain": [
       "0    83943\n",
       "1     9233\n",
       "Name: HeartDiseaseorAttack, dtype: int64"
      ]
     },
     "execution_count": 31,
     "metadata": {},
     "output_type": "execute_result"
    }
   ],
   "source": [
    "df_tracks_t = df_tracks_t.set_index('HeartDiseaseorAttack')\n",
    "df_tracks_t = df_tracks_t.drop('-', axis=0)\n",
    "df_tracks_t = df_tracks_t.drop('Xx', axis=0)\n",
    "df_tracks_t = df_tracks_t.drop('?', axis=0)\n",
    "df_tracks_t = df_tracks_t.reset_index()\n",
    "df_tracks_t['HeartDiseaseorAttack'].value_counts()"
   ]
  },
  {
   "cell_type": "code",
   "execution_count": 32,
   "id": "108dc021",
   "metadata": {},
   "outputs": [
    {
     "data": {
      "text/plain": [
       "1     69553\n",
       "0     23590\n",
       "-        18\n",
       "Xx       10\n",
       "?         5\n",
       "Name: PhysActivity, dtype: int64"
      ]
     },
     "execution_count": 32,
     "metadata": {},
     "output_type": "execute_result"
    }
   ],
   "source": [
    "df_tracks_t['PhysActivity'].value_counts()"
   ]
  },
  {
   "cell_type": "code",
   "execution_count": 33,
   "id": "c6d0ab6f",
   "metadata": {},
   "outputs": [
    {
     "data": {
      "text/plain": [
       "1    69553\n",
       "0    23590\n",
       "Name: PhysActivity, dtype: int64"
      ]
     },
     "execution_count": 33,
     "metadata": {},
     "output_type": "execute_result"
    }
   ],
   "source": [
    "df_tracks_t = df_tracks_t.set_index('PhysActivity')\n",
    "df_tracks_t = df_tracks_t.drop('-', axis=0)\n",
    "df_tracks_t = df_tracks_t.drop('Xx', axis=0)\n",
    "df_tracks_t = df_tracks_t.drop('?', axis=0)\n",
    "df_tracks_t = df_tracks_t.reset_index()\n",
    "df_tracks_t['PhysActivity'].value_counts()"
   ]
  },
  {
   "cell_type": "code",
   "execution_count": 34,
   "id": "e905b795",
   "metadata": {},
   "outputs": [
    {
     "data": {
      "text/plain": [
       "1     57900\n",
       "0     35210\n",
       "Xx       17\n",
       "?         8\n",
       "-         8\n",
       "Name: Fruits, dtype: int64"
      ]
     },
     "execution_count": 34,
     "metadata": {},
     "output_type": "execute_result"
    }
   ],
   "source": [
    "df_tracks_t['Fruits'].value_counts()"
   ]
  },
  {
   "cell_type": "code",
   "execution_count": 35,
   "id": "2915e9f0",
   "metadata": {},
   "outputs": [
    {
     "data": {
      "text/plain": [
       "1    57900\n",
       "0    35210\n",
       "Name: Fruits, dtype: int64"
      ]
     },
     "execution_count": 35,
     "metadata": {},
     "output_type": "execute_result"
    }
   ],
   "source": [
    "df_tracks_t = df_tracks_t.set_index('Fruits')\n",
    "df_tracks_t = df_tracks_t.drop('-', axis=0)\n",
    "df_tracks_t = df_tracks_t.drop('Xx', axis=0)\n",
    "df_tracks_t = df_tracks_t.drop('?', axis=0)\n",
    "df_tracks_t = df_tracks_t.reset_index()\n",
    "df_tracks_t['Fruits'].value_counts()"
   ]
  },
  {
   "cell_type": "code",
   "execution_count": 36,
   "id": "639f2a3f",
   "metadata": {},
   "outputs": [
    {
     "data": {
      "text/plain": [
       "1     74830\n",
       "0     18240\n",
       "Xx       18\n",
       "-        13\n",
       "?         9\n",
       "Name: Veggies, dtype: int64"
      ]
     },
     "execution_count": 36,
     "metadata": {},
     "output_type": "execute_result"
    }
   ],
   "source": [
    "df_tracks_t['Veggies'].value_counts()"
   ]
  },
  {
   "cell_type": "code",
   "execution_count": 37,
   "id": "f5d07e87",
   "metadata": {},
   "outputs": [
    {
     "data": {
      "text/plain": [
       "1    74830\n",
       "0    18240\n",
       "Name: Veggies, dtype: int64"
      ]
     },
     "execution_count": 37,
     "metadata": {},
     "output_type": "execute_result"
    }
   ],
   "source": [
    "df_tracks_t = df_tracks_t.set_index('Veggies')\n",
    "df_tracks_t = df_tracks_t.drop('-', axis=0)\n",
    "df_tracks_t = df_tracks_t.drop('Xx', axis=0)\n",
    "df_tracks_t = df_tracks_t.drop('?', axis=0)\n",
    "df_tracks_t = df_tracks_t.reset_index()\n",
    "df_tracks_t['Veggies'].value_counts()"
   ]
  },
  {
   "cell_type": "code",
   "execution_count": 38,
   "id": "dd50a10d",
   "metadata": {},
   "outputs": [
    {
     "data": {
      "text/plain": [
       "0     87433\n",
       "1      5614\n",
       "-        11\n",
       "?         7\n",
       "Xx        5\n",
       "Name: HvyAlcoholConsump, dtype: int64"
      ]
     },
     "execution_count": 38,
     "metadata": {},
     "output_type": "execute_result"
    }
   ],
   "source": [
    "df_tracks_t['HvyAlcoholConsump'].value_counts()"
   ]
  },
  {
   "cell_type": "code",
   "execution_count": 39,
   "id": "3de3e031",
   "metadata": {},
   "outputs": [
    {
     "data": {
      "text/plain": [
       "0    87433\n",
       "1     5614\n",
       "Name: HvyAlcoholConsump, dtype: int64"
      ]
     },
     "execution_count": 39,
     "metadata": {},
     "output_type": "execute_result"
    }
   ],
   "source": [
    "df_tracks_t = df_tracks_t.set_index('HvyAlcoholConsump')\n",
    "df_tracks_t = df_tracks_t.drop('-', axis=0)\n",
    "df_tracks_t = df_tracks_t.drop('Xx', axis=0)\n",
    "df_tracks_t = df_tracks_t.drop('?', axis=0)\n",
    "df_tracks_t = df_tracks_t.reset_index()\n",
    "df_tracks_t['HvyAlcoholConsump'].value_counts()"
   ]
  },
  {
   "cell_type": "code",
   "execution_count": 40,
   "id": "a80a079c",
   "metadata": {},
   "outputs": [
    {
     "data": {
      "text/plain": [
       "1     88112\n",
       "0      4908\n",
       "Xx       10\n",
       "-         9\n",
       "?         8\n",
       "Name: AnyHealthcare, dtype: int64"
      ]
     },
     "execution_count": 40,
     "metadata": {},
     "output_type": "execute_result"
    }
   ],
   "source": [
    "df_tracks_t['AnyHealthcare'].value_counts()"
   ]
  },
  {
   "cell_type": "code",
   "execution_count": 41,
   "id": "c5326323",
   "metadata": {},
   "outputs": [
    {
     "data": {
      "text/plain": [
       "1    88112\n",
       "0     4908\n",
       "Name: AnyHealthcare, dtype: int64"
      ]
     },
     "execution_count": 41,
     "metadata": {},
     "output_type": "execute_result"
    }
   ],
   "source": [
    "df_tracks_t = df_tracks_t.set_index('AnyHealthcare')\n",
    "df_tracks_t = df_tracks_t.drop('-', axis=0)\n",
    "df_tracks_t = df_tracks_t.drop('Xx', axis=0)\n",
    "df_tracks_t = df_tracks_t.drop('?', axis=0)\n",
    "df_tracks_t = df_tracks_t.reset_index()\n",
    "df_tracks_t['AnyHealthcare'].value_counts()"
   ]
  },
  {
   "cell_type": "code",
   "execution_count": 42,
   "id": "3dbb0726",
   "metadata": {},
   "outputs": [
    {
     "data": {
      "text/plain": [
       "0     84875\n",
       "1      8114\n",
       "Xx       14\n",
       "-        13\n",
       "?         4\n",
       "Name: NoDocbcCost, dtype: int64"
      ]
     },
     "execution_count": 42,
     "metadata": {},
     "output_type": "execute_result"
    }
   ],
   "source": [
    "df_tracks_t['NoDocbcCost'].value_counts()"
   ]
  },
  {
   "cell_type": "code",
   "execution_count": 43,
   "id": "1d586d92",
   "metadata": {},
   "outputs": [
    {
     "data": {
      "text/plain": [
       "0    84875\n",
       "1     8114\n",
       "Name: NoDocbcCost, dtype: int64"
      ]
     },
     "execution_count": 43,
     "metadata": {},
     "output_type": "execute_result"
    }
   ],
   "source": [
    "df_tracks_t = df_tracks_t.set_index('NoDocbcCost')\n",
    "df_tracks_t = df_tracks_t.drop('-', axis=0)\n",
    "df_tracks_t = df_tracks_t.drop('Xx', axis=0)\n",
    "df_tracks_t = df_tracks_t.drop('?', axis=0)\n",
    "df_tracks_t = df_tracks_t.reset_index()\n",
    "df_tracks_t['NoDocbcCost'].value_counts()"
   ]
  },
  {
   "cell_type": "code",
   "execution_count": 44,
   "id": "71979ddd",
   "metadata": {},
   "outputs": [
    {
     "data": {
      "text/plain": [
       "2     31927\n",
       "3     29023\n",
       "1     15149\n",
       "4     12161\n",
       "5      4705\n",
       "-        12\n",
       "Xx        9\n",
       "?         3\n",
       "Name: GenHlth, dtype: int64"
      ]
     },
     "execution_count": 44,
     "metadata": {},
     "output_type": "execute_result"
    }
   ],
   "source": [
    "df_tracks_t['GenHlth'].value_counts()"
   ]
  },
  {
   "cell_type": "code",
   "execution_count": 45,
   "id": "8b32e34f",
   "metadata": {},
   "outputs": [
    {
     "data": {
      "text/plain": [
       "2    31927\n",
       "3    29023\n",
       "1    15149\n",
       "4    12161\n",
       "5     4705\n",
       "Name: GenHlth, dtype: int64"
      ]
     },
     "execution_count": 45,
     "metadata": {},
     "output_type": "execute_result"
    }
   ],
   "source": [
    "df_tracks_t = df_tracks_t.set_index('GenHlth')\n",
    "df_tracks_t = df_tracks_t.drop('-', axis=0)\n",
    "df_tracks_t = df_tracks_t.drop('Xx', axis=0)\n",
    "df_tracks_t = df_tracks_t.drop('?', axis=0)\n",
    "df_tracks_t = df_tracks_t.reset_index()\n",
    "df_tracks_t['GenHlth'].value_counts()"
   ]
  },
  {
   "cell_type": "code",
   "execution_count": 46,
   "id": "a1259120",
   "metadata": {},
   "outputs": [
    {
     "data": {
      "text/plain": [
       "0      61870\n",
       "2       5043\n",
       "30      4543\n",
       "5       3632\n",
       "1       3394\n",
       "3       3024\n",
       "10      2468\n",
       "15      2127\n",
       "4       1510\n",
       "20      1344\n",
       "7       1235\n",
       "25       497\n",
       "14       445\n",
       "6        398\n",
       "8        235\n",
       "12       167\n",
       "28       159\n",
       "21        92\n",
       "16        66\n",
       "29        64\n",
       "18        54\n",
       "22        47\n",
       "9         39\n",
       "24        36\n",
       "26        34\n",
       "36        27\n",
       "-21       26\n",
       "-33       25\n",
       "-29       25\n",
       "-27       25\n",
       "27        25\n",
       "34        24\n",
       "-25       23\n",
       "32        23\n",
       "-19       22\n",
       "-35       21\n",
       "-31       20\n",
       "13        19\n",
       "11        17\n",
       "23        16\n",
       "-17       15\n",
       "-         15\n",
       "-23       15\n",
       "Xx        14\n",
       "17        14\n",
       "-15       13\n",
       "19         9\n",
       "-37        6\n",
       "?          3\n",
       "Name: MentHlth, dtype: int64"
      ]
     },
     "execution_count": 46,
     "metadata": {},
     "output_type": "execute_result"
    }
   ],
   "source": [
    "df_tracks_t['MentHlth'].value_counts()"
   ]
  },
  {
   "cell_type": "markdown",
   "id": "7110a714",
   "metadata": {},
   "source": [
    "En este caso vemos que hay valores negativos"
   ]
  },
  {
   "cell_type": "code",
   "execution_count": null,
   "id": "28f3f45d",
   "metadata": {},
   "outputs": [],
   "source": []
  }
 ],
 "metadata": {
  "kernelspec": {
   "display_name": "Python 3",
   "language": "python",
   "name": "python3"
  },
  "language_info": {
   "codemirror_mode": {
    "name": "ipython",
    "version": 3
   },
   "file_extension": ".py",
   "mimetype": "text/x-python",
   "name": "python",
   "nbconvert_exporter": "python",
   "pygments_lexer": "ipython3",
   "version": "3.8.5"
  }
 },
 "nbformat": 4,
 "nbformat_minor": 5
}
