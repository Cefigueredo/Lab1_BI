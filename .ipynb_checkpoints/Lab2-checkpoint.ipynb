{
 "cells": [
  {
   "cell_type": "markdown",
   "id": "88030939",
   "metadata": {},
   "source": [
    "# Laboratorio 2 - Clustering"
   ]
  },
  {
   "cell_type": "markdown",
   "id": "0679cd05",
   "metadata": {},
   "source": [
    "### 1. Importación de librerías"
   ]
  },
  {
   "cell_type": "code",
   "execution_count": 1,
   "id": "57f85971",
   "metadata": {},
   "outputs": [],
   "source": [
    "import pandas as pd\n",
    "import numpy as np\n",
    "import matplotlib.pyplot as plt\n",
    "import seaborn as sns; sns.set()  # for plot styling\n",
    "\n",
    "from sklearn.preprocessing import StandardScaler\n",
    "from sklearn.cluster import KMeans\n",
    "from sklearn.metrics import silhouette_samples, silhouette_score\n",
    "from sklearn.preprocessing import MinMaxScaler\n",
    "\n",
    "from matplotlib import cm\n",
    "from mpl_toolkits.mplot3d import Axes3D # for 3D plots"
   ]
  },
  {
   "cell_type": "markdown",
   "id": "f4302ee3",
   "metadata": {},
   "source": [
    "### 2. Carga de los datos"
   ]
  },
  {
   "cell_type": "code",
   "execution_count": 2,
   "id": "b74f8b26",
   "metadata": {},
   "outputs": [],
   "source": [
    "# Se cargan los datos. \n",
    "df_tracks=pd.read_csv('202210_Laboratorio2_data_202210_Lab2_BancAlpes_CC_data.csv', sep=',', encoding = 'utf-8', index_col=0)"
   ]
  },
  {
   "cell_type": "markdown",
   "id": "79d5f52e",
   "metadata": {},
   "source": [
    "### 3. Perfilamiento y entendimiento de los datos "
   ]
  },
  {
   "cell_type": "code",
   "execution_count": 3,
   "id": "0638892a",
   "metadata": {},
   "outputs": [
    {
     "data": {
      "text/plain": [
       "(5530, 14)"
      ]
     },
     "execution_count": 3,
     "metadata": {},
     "output_type": "execute_result"
    }
   ],
   "source": [
    "df_tracks.shape"
   ]
  },
  {
   "cell_type": "code",
   "execution_count": 4,
   "id": "aa8819a5",
   "metadata": {},
   "outputs": [
    {
     "data": {
      "text/html": [
       "<div>\n",
       "<style scoped>\n",
       "    .dataframe tbody tr th:only-of-type {\n",
       "        vertical-align: middle;\n",
       "    }\n",
       "\n",
       "    .dataframe tbody tr th {\n",
       "        vertical-align: top;\n",
       "    }\n",
       "\n",
       "    .dataframe thead th {\n",
       "        text-align: right;\n",
       "    }\n",
       "</style>\n",
       "<table border=\"1\" class=\"dataframe\">\n",
       "  <thead>\n",
       "    <tr style=\"text-align: right;\">\n",
       "      <th></th>\n",
       "      <th>GENDER</th>\n",
       "      <th>BALANCE</th>\n",
       "      <th>PURCHASES</th>\n",
       "      <th>BALANCE_FREQUENCY</th>\n",
       "      <th>CASH_ADVANCE</th>\n",
       "      <th>CASH_ADVANCE_TRX</th>\n",
       "      <th>PURCHASES_FREQUENCY</th>\n",
       "      <th>PURCHASES_TRX</th>\n",
       "      <th>ONEOFF_PURCHASES_FREQUENCY</th>\n",
       "      <th>CASH_ADVANCE_FREQUENCY</th>\n",
       "      <th>CREDIT_LIMIT</th>\n",
       "      <th>PAYMENTS</th>\n",
       "      <th>MINIMUM_PAYMENTS</th>\n",
       "      <th>TENURE</th>\n",
       "    </tr>\n",
       "    <tr>\n",
       "      <th>CUST_ID</th>\n",
       "      <th></th>\n",
       "      <th></th>\n",
       "      <th></th>\n",
       "      <th></th>\n",
       "      <th></th>\n",
       "      <th></th>\n",
       "      <th></th>\n",
       "      <th></th>\n",
       "      <th></th>\n",
       "      <th></th>\n",
       "      <th></th>\n",
       "      <th></th>\n",
       "      <th></th>\n",
       "      <th></th>\n",
       "    </tr>\n",
       "  </thead>\n",
       "  <tbody>\n",
       "    <tr>\n",
       "      <th>C12529</th>\n",
       "      <td>F</td>\n",
       "      <td>107.944741</td>\n",
       "      <td>118.16</td>\n",
       "      <td>0.875</td>\n",
       "      <td>472.818286</td>\n",
       "      <td>1.0</td>\n",
       "      <td>0.125000</td>\n",
       "      <td>2</td>\n",
       "      <td>0.125</td>\n",
       "      <td>0.125000</td>\n",
       "      <td>2500.0</td>\n",
       "      <td>192.781455</td>\n",
       "      <td>56.999671</td>\n",
       "      <td>8</td>\n",
       "    </tr>\n",
       "    <tr>\n",
       "      <th>C14138</th>\n",
       "      <td>NaN</td>\n",
       "      <td>241.032979</td>\n",
       "      <td>0.00</td>\n",
       "      <td>1.000</td>\n",
       "      <td>642.862505</td>\n",
       "      <td>1.0</td>\n",
       "      <td>0.000000</td>\n",
       "      <td>0</td>\n",
       "      <td>NaN</td>\n",
       "      <td>0.083333</td>\n",
       "      <td>1500.0</td>\n",
       "      <td>915.454305</td>\n",
       "      <td>195.162256</td>\n",
       "      <td>12</td>\n",
       "    </tr>\n",
       "    <tr>\n",
       "      <th>C15409</th>\n",
       "      <td>NaN</td>\n",
       "      <td>894.357857</td>\n",
       "      <td>1164.00</td>\n",
       "      <td>1.000</td>\n",
       "      <td>0.0</td>\n",
       "      <td>0.0</td>\n",
       "      <td>1.000000</td>\n",
       "      <td>12</td>\n",
       "      <td>NaN</td>\n",
       "      <td>0.000000</td>\n",
       "      <td>2000.0</td>\n",
       "      <td>907.603723</td>\n",
       "      <td>270.413449</td>\n",
       "      <td>-12</td>\n",
       "    </tr>\n",
       "    <tr>\n",
       "      <th>C18141</th>\n",
       "      <td>F</td>\n",
       "      <td>-188.132508</td>\n",
       "      <td>515.88</td>\n",
       "      <td>1.000</td>\n",
       "      <td>0.0</td>\n",
       "      <td>NaN</td>\n",
       "      <td>0.833333</td>\n",
       "      <td>14</td>\n",
       "      <td>NaN</td>\n",
       "      <td>0.000000</td>\n",
       "      <td>2700.0</td>\n",
       "      <td>601.729266</td>\n",
       "      <td>194.534934</td>\n",
       "      <td>12</td>\n",
       "    </tr>\n",
       "    <tr>\n",
       "      <th>C15879</th>\n",
       "      <td>NaN</td>\n",
       "      <td>3881.679582</td>\n",
       "      <td>15.92</td>\n",
       "      <td>1.000</td>\n",
       "      <td>2183.782456</td>\n",
       "      <td>9.0</td>\n",
       "      <td>0.083333</td>\n",
       "      <td>1</td>\n",
       "      <td>NaN</td>\n",
       "      <td>0.333333</td>\n",
       "      <td>5500.0</td>\n",
       "      <td>1032.183632</td>\n",
       "      <td>1129.747227</td>\n",
       "      <td>12</td>\n",
       "    </tr>\n",
       "  </tbody>\n",
       "</table>\n",
       "</div>"
      ],
      "text/plain": [
       "        GENDER      BALANCE  PURCHASES  BALANCE_FREQUENCY CASH_ADVANCE  \\\n",
       "CUST_ID                                                                  \n",
       "C12529       F   107.944741     118.16              0.875   472.818286   \n",
       "C14138     NaN   241.032979       0.00              1.000   642.862505   \n",
       "C15409     NaN   894.357857    1164.00              1.000          0.0   \n",
       "C18141       F  -188.132508     515.88              1.000          0.0   \n",
       "C15879     NaN  3881.679582      15.92              1.000  2183.782456   \n",
       "\n",
       "         CASH_ADVANCE_TRX  PURCHASES_FREQUENCY PURCHASES_TRX  \\\n",
       "CUST_ID                                                        \n",
       "C12529                1.0             0.125000             2   \n",
       "C14138                1.0             0.000000             0   \n",
       "C15409                0.0             1.000000            12   \n",
       "C18141                NaN             0.833333            14   \n",
       "C15879                9.0             0.083333             1   \n",
       "\n",
       "         ONEOFF_PURCHASES_FREQUENCY  CASH_ADVANCE_FREQUENCY  CREDIT_LIMIT  \\\n",
       "CUST_ID                                                                     \n",
       "C12529                        0.125                0.125000        2500.0   \n",
       "C14138                          NaN                0.083333        1500.0   \n",
       "C15409                          NaN                0.000000        2000.0   \n",
       "C18141                          NaN                0.000000        2700.0   \n",
       "C15879                          NaN                0.333333        5500.0   \n",
       "\n",
       "            PAYMENTS MINIMUM_PAYMENTS TENURE  \n",
       "CUST_ID                                       \n",
       "C12529    192.781455        56.999671      8  \n",
       "C14138    915.454305       195.162256     12  \n",
       "C15409    907.603723       270.413449    -12  \n",
       "C18141    601.729266       194.534934     12  \n",
       "C15879   1032.183632      1129.747227     12  "
      ]
     },
     "execution_count": 4,
     "metadata": {},
     "output_type": "execute_result"
    }
   ],
   "source": [
    "df_tracks.head()"
   ]
  },
  {
   "cell_type": "code",
   "execution_count": 5,
   "id": "bc1d1a1c",
   "metadata": {},
   "outputs": [
    {
     "name": "stdout",
     "output_type": "stream",
     "text": [
      "<class 'pandas.core.frame.DataFrame'>\n",
      "Index: 5530 entries, C12529 to C12391\n",
      "Data columns (total 14 columns):\n",
      " #   Column                      Non-Null Count  Dtype  \n",
      "---  ------                      --------------  -----  \n",
      " 0   GENDER                      2816 non-null   object \n",
      " 1   BALANCE                     5530 non-null   float64\n",
      " 2   PURCHASES                   5530 non-null   float64\n",
      " 3   BALANCE_FREQUENCY           5530 non-null   float64\n",
      " 4   CASH_ADVANCE                5530 non-null   object \n",
      " 5   CASH_ADVANCE_TRX            5380 non-null   float64\n",
      " 6   PURCHASES_FREQUENCY         5530 non-null   float64\n",
      " 7   PURCHASES_TRX               5530 non-null   object \n",
      " 8   ONEOFF_PURCHASES_FREQUENCY  2790 non-null   float64\n",
      " 9   CASH_ADVANCE_FREQUENCY      5364 non-null   float64\n",
      " 10  CREDIT_LIMIT                5530 non-null   float64\n",
      " 11  PAYMENTS                    5530 non-null   float64\n",
      " 12  MINIMUM_PAYMENTS            5530 non-null   object \n",
      " 13  TENURE                      5367 non-null   object \n",
      "dtypes: float64(9), object(5)\n",
      "memory usage: 648.0+ KB\n"
     ]
    }
   ],
   "source": [
    "df_tracks.info()"
   ]
  },
  {
   "cell_type": "code",
   "execution_count": 6,
   "id": "ff5fa10a",
   "metadata": {},
   "outputs": [
    {
     "data": {
      "text/html": [
       "<div>\n",
       "<style scoped>\n",
       "    .dataframe tbody tr th:only-of-type {\n",
       "        vertical-align: middle;\n",
       "    }\n",
       "\n",
       "    .dataframe tbody tr th {\n",
       "        vertical-align: top;\n",
       "    }\n",
       "\n",
       "    .dataframe thead th {\n",
       "        text-align: right;\n",
       "    }\n",
       "</style>\n",
       "<table border=\"1\" class=\"dataframe\">\n",
       "  <thead>\n",
       "    <tr style=\"text-align: right;\">\n",
       "      <th></th>\n",
       "      <th>BALANCE</th>\n",
       "      <th>PURCHASES</th>\n",
       "      <th>BALANCE_FREQUENCY</th>\n",
       "      <th>CASH_ADVANCE_TRX</th>\n",
       "      <th>PURCHASES_FREQUENCY</th>\n",
       "      <th>ONEOFF_PURCHASES_FREQUENCY</th>\n",
       "      <th>CASH_ADVANCE_FREQUENCY</th>\n",
       "      <th>CREDIT_LIMIT</th>\n",
       "      <th>PAYMENTS</th>\n",
       "    </tr>\n",
       "  </thead>\n",
       "  <tbody>\n",
       "    <tr>\n",
       "      <th>count</th>\n",
       "      <td>5530.000000</td>\n",
       "      <td>5530.000000</td>\n",
       "      <td>5530.000000</td>\n",
       "      <td>5380.000000</td>\n",
       "      <td>5530.000000</td>\n",
       "      <td>2790.000000</td>\n",
       "      <td>5364.000000</td>\n",
       "      <td>5530.000000</td>\n",
       "      <td>5530.000000</td>\n",
       "    </tr>\n",
       "    <tr>\n",
       "      <th>mean</th>\n",
       "      <td>1041.700463</td>\n",
       "      <td>534.577103</td>\n",
       "      <td>26.482552</td>\n",
       "      <td>49.115428</td>\n",
       "      <td>12.206006</td>\n",
       "      <td>0.148298</td>\n",
       "      <td>0.119005</td>\n",
       "      <td>3588.095256</td>\n",
       "      <td>1107.989817</td>\n",
       "    </tr>\n",
       "    <tr>\n",
       "      <th>std</th>\n",
       "      <td>1353.093044</td>\n",
       "      <td>773.488745</td>\n",
       "      <td>152.899316</td>\n",
       "      <td>573.817771</td>\n",
       "      <td>93.757671</td>\n",
       "      <td>0.241687</td>\n",
       "      <td>0.173206</td>\n",
       "      <td>2640.396238</td>\n",
       "      <td>1270.892564</td>\n",
       "    </tr>\n",
       "    <tr>\n",
       "      <th>min</th>\n",
       "      <td>-4587.892398</td>\n",
       "      <td>0.000000</td>\n",
       "      <td>0.000000</td>\n",
       "      <td>0.000000</td>\n",
       "      <td>0.000000</td>\n",
       "      <td>0.000000</td>\n",
       "      <td>0.000000</td>\n",
       "      <td>50.000000</td>\n",
       "      <td>0.056466</td>\n",
       "    </tr>\n",
       "    <tr>\n",
       "      <th>25%</th>\n",
       "      <td>74.060304</td>\n",
       "      <td>0.000000</td>\n",
       "      <td>0.833333</td>\n",
       "      <td>0.000000</td>\n",
       "      <td>0.000000</td>\n",
       "      <td>0.000000</td>\n",
       "      <td>0.000000</td>\n",
       "      <td>1500.000000</td>\n",
       "      <td>345.431102</td>\n",
       "    </tr>\n",
       "    <tr>\n",
       "      <th>50%</th>\n",
       "      <td>632.743634</td>\n",
       "      <td>269.130000</td>\n",
       "      <td>1.000000</td>\n",
       "      <td>0.000000</td>\n",
       "      <td>0.363636</td>\n",
       "      <td>0.000000</td>\n",
       "      <td>0.000000</td>\n",
       "      <td>2900.000000</td>\n",
       "      <td>671.001700</td>\n",
       "    </tr>\n",
       "    <tr>\n",
       "      <th>75%</th>\n",
       "      <td>1545.808455</td>\n",
       "      <td>723.700000</td>\n",
       "      <td>1.000000</td>\n",
       "      <td>3.000000</td>\n",
       "      <td>0.833333</td>\n",
       "      <td>0.166667</td>\n",
       "      <td>0.166667</td>\n",
       "      <td>5000.000000</td>\n",
       "      <td>1354.931507</td>\n",
       "    </tr>\n",
       "    <tr>\n",
       "      <th>max</th>\n",
       "      <td>7390.198560</td>\n",
       "      <td>9661.370000</td>\n",
       "      <td>1000.000000</td>\n",
       "      <td>18000.000000</td>\n",
       "      <td>1000.000000</td>\n",
       "      <td>1.000000</td>\n",
       "      <td>1.500000</td>\n",
       "      <td>12500.000000</td>\n",
       "      <td>9933.622610</td>\n",
       "    </tr>\n",
       "  </tbody>\n",
       "</table>\n",
       "</div>"
      ],
      "text/plain": [
       "           BALANCE    PURCHASES  BALANCE_FREQUENCY  CASH_ADVANCE_TRX  \\\n",
       "count  5530.000000  5530.000000        5530.000000       5380.000000   \n",
       "mean   1041.700463   534.577103          26.482552         49.115428   \n",
       "std    1353.093044   773.488745         152.899316        573.817771   \n",
       "min   -4587.892398     0.000000           0.000000          0.000000   \n",
       "25%      74.060304     0.000000           0.833333          0.000000   \n",
       "50%     632.743634   269.130000           1.000000          0.000000   \n",
       "75%    1545.808455   723.700000           1.000000          3.000000   \n",
       "max    7390.198560  9661.370000        1000.000000      18000.000000   \n",
       "\n",
       "       PURCHASES_FREQUENCY  ONEOFF_PURCHASES_FREQUENCY  \\\n",
       "count          5530.000000                 2790.000000   \n",
       "mean             12.206006                    0.148298   \n",
       "std              93.757671                    0.241687   \n",
       "min               0.000000                    0.000000   \n",
       "25%               0.000000                    0.000000   \n",
       "50%               0.363636                    0.000000   \n",
       "75%               0.833333                    0.166667   \n",
       "max            1000.000000                    1.000000   \n",
       "\n",
       "       CASH_ADVANCE_FREQUENCY  CREDIT_LIMIT     PAYMENTS  \n",
       "count             5364.000000   5530.000000  5530.000000  \n",
       "mean                 0.119005   3588.095256  1107.989817  \n",
       "std                  0.173206   2640.396238  1270.892564  \n",
       "min                  0.000000     50.000000     0.056466  \n",
       "25%                  0.000000   1500.000000   345.431102  \n",
       "50%                  0.000000   2900.000000   671.001700  \n",
       "75%                  0.166667   5000.000000  1354.931507  \n",
       "max                  1.500000  12500.000000  9933.622610  "
      ]
     },
     "execution_count": 6,
     "metadata": {},
     "output_type": "execute_result"
    }
   ],
   "source": [
    "# Resumen de los estadisticos de las variables numéricas\n",
    "df_tracks.describe()"
   ]
  },
  {
   "cell_type": "code",
   "execution_count": 7,
   "id": "88790d73",
   "metadata": {},
   "outputs": [],
   "source": [
    "#Visualización de todas las variables numéricas\n",
    "fig=plt.figure(figsize=(20,8))\n",
    "ax = sns.boxplot(data=df_tracks, orient=\"v\")"
   ]
  },
  {
   "cell_type": "code",
   "execution_count": 10,
   "id": "c53a5676",
   "metadata": {},
   "outputs": [
    {
     "data": {
      "text/plain": [
       "Index([], dtype='object')"
      ]
     },
     "execution_count": 10,
     "metadata": {},
     "output_type": "execute_result"
    }
   ],
   "source": [
    "#Separación de la variable duración (int) de variables float para ver mejor su contenido dada la diferencia de magnitudes en el dominio\n",
    "name_cols_float = df_tracks.select_dtypes(include = ['float']).columns\n",
    "name_cols_int = df_tracks.select_dtypes(include = ['int64']).columns\n",
    "name_cols_int\n",
    "#name_cols_float"
   ]
  },
  {
   "cell_type": "code",
   "execution_count": 12,
   "id": "432258fa",
   "metadata": {},
   "outputs": [],
   "source": [
    "#Visualización de todas las variables numéricas\n",
    "fig=plt.figure(figsize=(20,8))\n",
    "ax = sns.boxplot(data=df_tracks[name_cols_float], orient=\"v\")"
   ]
  },
  {
   "cell_type": "markdown",
   "id": "9aa5b5e6",
   "metadata": {},
   "source": [
    "### 4. Limpieza y preparación de los datos"
   ]
  },
  {
   "cell_type": "code",
   "execution_count": 14,
   "id": "9041e289",
   "metadata": {},
   "outputs": [
    {
     "data": {
      "text/plain": [
       "<seaborn.axisgrid.PairGrid at 0x2029338ea30>"
      ]
     },
     "execution_count": 14,
     "metadata": {},
     "output_type": "execute_result"
    }
   ],
   "source": [
    "# Ver si hay grupos naturales en los datos\n",
    "sns.pairplot(df_tracks.dropna(), height=3,vars=['BALANCE','PURCHASES'],kind='scatter')"
   ]
  },
  {
   "cell_type": "markdown",
   "id": "370b3898",
   "metadata": {},
   "source": [
    "### 4.1. Construcción del modelo con K-means"
   ]
  },
  {
   "cell_type": "markdown",
   "id": "466e4754",
   "metadata": {},
   "source": [
    "### 4.2. Construcción del modelo con ..."
   ]
  },
  {
   "cell_type": "markdown",
   "id": "f0b10309",
   "metadata": {},
   "source": [
    "### 4.3. Construcción del modelo con ..."
   ]
  },
  {
   "cell_type": "code",
   "execution_count": null,
   "id": "6c8a9a7e",
   "metadata": {},
   "outputs": [],
   "source": []
  }
 ],
 "metadata": {
  "kernelspec": {
   "display_name": "Python 3",
   "language": "python",
   "name": "python3"
  },
  "language_info": {
   "codemirror_mode": {
    "name": "ipython",
    "version": 3
   },
   "file_extension": ".py",
   "mimetype": "text/x-python",
   "name": "python",
   "nbconvert_exporter": "python",
   "pygments_lexer": "ipython3",
   "version": "3.8.5"
  }
 },
 "nbformat": 4,
 "nbformat_minor": 5
}
